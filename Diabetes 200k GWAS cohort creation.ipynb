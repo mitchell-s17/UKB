{
 "cells": [
  {
   "cell_type": "code",
   "execution_count": 1,
   "id": "1d2b1cb2-4f5b-45b7-b03c-d562a27a20ad",
   "metadata": {
    "tags": []
   },
   "outputs": [],
   "source": [
    "import dxpy \n",
    "import dxdata \n",
    "import pandas as pd\n",
    "import pyspark\n",
    "import re"
   ]
  },
  {
   "cell_type": "code",
   "execution_count": 2,
   "id": "a9c3c2f0-e83f-45a9-b091-25ddec780a94",
   "metadata": {
    "tags": []
   },
   "outputs": [],
   "source": [
    "# Initialize Spark\n",
    "# Spark initialization (Done only once; do not rerun this cell unless you select Kernel -> Restart kernel).\n",
    "sc = pyspark.SparkContext()\n",
    "spark = pyspark.sql.SparkSession(sc)"
   ]
  },
  {
   "cell_type": "code",
   "execution_count": 3,
   "id": "03a35831-fd65-42da-8dcb-88f245310cec",
   "metadata": {
    "tags": []
   },
   "outputs": [],
   "source": [
    "# Automatically discover dispensed dataset ID and load the dataset\n",
    "dispensed_dataset = dxpy.find_one_data_object(\n",
    "    typename=\"Dataset\", \n",
    "    name=\"app*.dataset\", \n",
    "    folder=\"/\", \n",
    "    name_mode=\"glob\")\n",
    "dispensed_dataset_id = dispensed_dataset[\"id\"]\n",
    "dataset = dxdata.load_dataset(id=dispensed_dataset_id)"
   ]
  },
  {
   "cell_type": "code",
   "execution_count": 4,
   "id": "1fb30387-35ab-4f8c-a9b4-fc375b8bbed3",
   "metadata": {
    "tags": []
   },
   "outputs": [],
   "source": [
    "participant = dataset['participant']"
   ]
  },
  {
   "cell_type": "code",
   "execution_count": 5,
   "id": "9cc7f821-c135-4089-ba9c-694fa833d34b",
   "metadata": {
    "tags": []
   },
   "outputs": [],
   "source": [
    "# load cohorts from cohort browser\n",
    "case = dxdata.load_cohort(\"/Practice/diabetes_cases\")  \n",
    "cont = dxdata.load_cohort(\"/Practice/diabetes_controls\")  "
   ]
  },
  {
   "cell_type": "code",
   "execution_count": 6,
   "id": "aab023bb-ae66-4578-8738-1aa10329ef6c",
   "metadata": {
    "tags": []
   },
   "outputs": [],
   "source": [
    "# Specify fields ID to retrieve, get corresponding UKB RAP field names and print description table.\n",
    "field_ids = ['31', '22001', '22006', '22019', '22021', '21022', '41270']"
   ]
  },
  {
   "cell_type": "code",
   "execution_count": 7,
   "id": "8e698832-729e-464c-8fa4-4bfd9382408d",
   "metadata": {
    "tags": []
   },
   "outputs": [],
   "source": [
    "# This function is used to grab all field names (e.g. \"p<field_id>_iYYY_aZZZ\") of a list of field IDs\n",
    "def fields_for_id(field_id):\n",
    "    from distutils.version import LooseVersion\n",
    "    field_id = str(field_id)\n",
    "    fields = participant.find_fields(name_regex=r'^p{}(_i\\d+)?(_a\\d+)?$'.format(field_id))\n",
    "    return sorted(fields, key=lambda f: LooseVersion(f.name))"
   ]
  },
  {
   "cell_type": "code",
   "execution_count": 8,
   "id": "b0c71252-d763-46f7-a079-acf9e1215ccb",
   "metadata": {
    "tags": []
   },
   "outputs": [
    {
     "name": "stderr",
     "output_type": "stream",
     "text": [
      "/tmp/ipykernel_128/40657072.py:6: DeprecationWarning: distutils Version classes are deprecated. Use packaging.version instead.\n",
      "  return sorted(fields, key=lambda f: LooseVersion(f.name))\n"
     ]
    },
    {
     "data": {
      "text/html": [
       "<div>\n",
       "<style scoped>\n",
       "    .dataframe tbody tr th:only-of-type {\n",
       "        vertical-align: middle;\n",
       "    }\n",
       "\n",
       "    .dataframe tbody tr th {\n",
       "        vertical-align: top;\n",
       "    }\n",
       "\n",
       "    .dataframe thead th {\n",
       "        text-align: right;\n",
       "    }\n",
       "</style>\n",
       "<table border=\"1\" class=\"dataframe\">\n",
       "  <thead>\n",
       "    <tr style=\"text-align: right;\">\n",
       "      <th></th>\n",
       "      <th>Field</th>\n",
       "      <th>Title</th>\n",
       "      <th>Coding</th>\n",
       "    </tr>\n",
       "  </thead>\n",
       "  <tbody>\n",
       "    <tr>\n",
       "      <th>0</th>\n",
       "      <td>p31</td>\n",
       "      <td>Sex</td>\n",
       "      <td>{'0': 'Female', '1': 'Male'}</td>\n",
       "    </tr>\n",
       "    <tr>\n",
       "      <th>1</th>\n",
       "      <td>p22001</td>\n",
       "      <td>Genetic sex</td>\n",
       "      <td>{'0': 'Female', '1': 'Male'}</td>\n",
       "    </tr>\n",
       "    <tr>\n",
       "      <th>2</th>\n",
       "      <td>p22006</td>\n",
       "      <td>Genetic ethnic grouping</td>\n",
       "      <td>{'1': 'Caucasian'}</td>\n",
       "    </tr>\n",
       "    <tr>\n",
       "      <th>3</th>\n",
       "      <td>p22019</td>\n",
       "      <td>Sex chromosome aneuploidy</td>\n",
       "      <td>{'1': 'Yes'}</td>\n",
       "    </tr>\n",
       "    <tr>\n",
       "      <th>4</th>\n",
       "      <td>p22021</td>\n",
       "      <td>Genetic kinship to other participants</td>\n",
       "      <td>{'-1': 'Participant excluded from kinship infe...</td>\n",
       "    </tr>\n",
       "    <tr>\n",
       "      <th>5</th>\n",
       "      <td>p21022</td>\n",
       "      <td>Age at recruitment</td>\n",
       "      <td></td>\n",
       "    </tr>\n",
       "    <tr>\n",
       "      <th>6</th>\n",
       "      <td>p41270</td>\n",
       "      <td>Diagnoses - ICD10</td>\n",
       "      <td>{'Chapter I': 'Chapter I Certain infectious an...</td>\n",
       "    </tr>\n",
       "    <tr>\n",
       "      <th>7</th>\n",
       "      <td>p20160_i0</td>\n",
       "      <td>Ever smoked | Instance 0</td>\n",
       "      <td>{'1': 'Yes', '0': 'No'}</td>\n",
       "    </tr>\n",
       "    <tr>\n",
       "      <th>8</th>\n",
       "      <td>eid</td>\n",
       "      <td>Participant ID</td>\n",
       "      <td></td>\n",
       "    </tr>\n",
       "  </tbody>\n",
       "</table>\n",
       "</div>"
      ],
      "text/plain": [
       "       Field                                  Title  \\\n",
       "0        p31                                    Sex   \n",
       "1     p22001                            Genetic sex   \n",
       "2     p22006                Genetic ethnic grouping   \n",
       "3     p22019              Sex chromosome aneuploidy   \n",
       "4     p22021  Genetic kinship to other participants   \n",
       "5     p21022                     Age at recruitment   \n",
       "6     p41270                      Diagnoses - ICD10   \n",
       "7  p20160_i0               Ever smoked | Instance 0   \n",
       "8        eid                         Participant ID   \n",
       "\n",
       "                                              Coding  \n",
       "0                       {'0': 'Female', '1': 'Male'}  \n",
       "1                       {'0': 'Female', '1': 'Male'}  \n",
       "2                                 {'1': 'Caucasian'}  \n",
       "3                                       {'1': 'Yes'}  \n",
       "4  {'-1': 'Participant excluded from kinship infe...  \n",
       "5                                                     \n",
       "6  {'Chapter I': 'Chapter I Certain infectious an...  \n",
       "7                            {'1': 'Yes', '0': 'No'}  \n",
       "8                                                     "
      ]
     },
     "execution_count": 8,
     "metadata": {},
     "output_type": "execute_result"
    }
   ],
   "source": [
    "fields = [fields_for_id(f)[0] for f in field_ids] + [participant.find_field(name='p20160_i0')] + [participant.find_field(name='eid')]\n",
    "field_description = pd.DataFrame({\n",
    "    'Field': [f.name for f in fields],\n",
    "    'Title': [f.title for f in fields],\n",
    "    'Coding': [f.coding.codes if f.coding is not None else '' for f in fields ]\n",
    " })\n",
    "field_description"
   ]
  },
  {
   "cell_type": "code",
   "execution_count": 9,
   "id": "902aea00-0820-40f1-b404-333173f673fa",
   "metadata": {
    "tags": []
   },
   "outputs": [],
   "source": [
    "case_df = participant.retrieve_fields(fields = fields, filter_sql = case.sql, engine=dxdata.connect()).toPandas()\n",
    "cont_df = participant.retrieve_fields(\n",
    "    fields = fields, filter_sql = cont.sql,\n",
    "    engine=dxdata.connect(\n",
    "    dialect=\"hive+pyspark\", \n",
    "        connect_args=\n",
    "        {\n",
    "            'config':{'spark.kryoserializer.buffer.max':'256m','spark.sql.autoBroadcastJoinThreshold':'-1'}\n",
    "                     \n",
    "        }\n",
    ")).toPandas()"
   ]
  },
  {
   "cell_type": "code",
   "execution_count": 10,
   "id": "fb57a6ec-f881-42b9-b358-2fa8897d52a7",
   "metadata": {
    "tags": []
   },
   "outputs": [],
   "source": [
    "df = pd.concat([case_df, cont_df])"
   ]
  },
  {
   "cell_type": "code",
   "execution_count": 11,
   "id": "7cc83c44-b386-4fe6-86af-67398f252a1e",
   "metadata": {
    "tags": []
   },
   "outputs": [
    {
     "data": {
      "text/plain": [
       "(502137, 9)"
      ]
     },
     "execution_count": 11,
     "metadata": {},
     "output_type": "execute_result"
    }
   ],
   "source": [
    "df.shape"
   ]
  },
  {
   "cell_type": "code",
   "execution_count": 12,
   "id": "f4d72190-c1ef-4332-91ee-632f5cfd59a7",
   "metadata": {
    "tags": []
   },
   "outputs": [],
   "source": [
    "df['diabetes_cc'] = 0\n",
    "df.loc[df.eid.isin(case_df.eid),'diabetes_cc'] = 1"
   ]
  },
  {
   "cell_type": "code",
   "execution_count": 13,
   "id": "2df3c015-4fd0-4d45-9250-1164f3bd209e",
   "metadata": {
    "tags": []
   },
   "outputs": [
    {
     "data": {
      "text/plain": [
       "0    455293\n",
       "1     46844\n",
       "Name: diabetes_cc, dtype: int64"
      ]
     },
     "execution_count": 13,
     "metadata": {},
     "output_type": "execute_result"
    }
   ],
   "source": [
    "df.diabetes_cc.value_counts()"
   ]
  },
  {
   "cell_type": "code",
   "execution_count": 14,
   "id": "3ac703f8-023d-43c2-8628-fe6a4f19c7e2",
   "metadata": {
    "tags": []
   },
   "outputs": [],
   "source": [
    "# Sample QC\n",
    "# Gender and genetic sex are the same, white british ancestry, no sex chromosome aneuploidy, no kinship found\n",
    "df_qced = df[\n",
    "    (df['p31'] == df['p22001']) & # Filter in sex and genetic sex are the same           \n",
    "    (df['p22006'] == 1) &         # in_white_british_ancestry_subset           \n",
    "    (df['p22019'].isnull()) &     # Not Sex chromosome aneuploidy           \n",
    "    (df['p22021'] == 0)           # No kinship found\n",
    "]"
   ]
  },
  {
   "cell_type": "code",
   "execution_count": 15,
   "id": "36b73b88-3bef-477a-99ff-6c1c14cab4dc",
   "metadata": {
    "tags": []
   },
   "outputs": [
    {
     "data": {
      "text/plain": [
       "0    252698\n",
       "1     23364\n",
       "Name: diabetes_cc, dtype: int64"
      ]
     },
     "execution_count": 15,
     "metadata": {},
     "output_type": "execute_result"
    }
   ],
   "source": [
    "df_qced.diabetes_cc.value_counts()"
   ]
  },
  {
   "cell_type": "code",
   "execution_count": 16,
   "id": "b8f7fb7d-cfe7-4a25-9f7f-0fcc4eb55c95",
   "metadata": {
    "tags": []
   },
   "outputs": [],
   "source": [
    "# Rename columns for better readibility and format table for regenie\n",
    "df_qced = df_qced.rename(columns=\n",
    "                         {'eid':'IID', 'p31': 'sex', 'p21022': 'age',\n",
    "                          'p20160_i0': 'ever_smoked',\n",
    "                          'p22006': 'ethnic_group',                           \n",
    "                          'p22019': 'sex_chromosome_aneuploidy',                          \n",
    "                          'p22021': 'kinship_to_other_participants'})\n",
    "# Add FID column -- required input format for regenie \n",
    "df_qced['FID'] = df_qced['IID']\n",
    "\n",
    "# Create a phenotype table from our QCed data\n",
    "df_phenotype = df_qced[['FID', 'IID', 'diabetes_cc', 'sex', 'age', 'ethnic_group', 'ever_smoked']]"
   ]
  },
  {
   "cell_type": "code",
   "execution_count": 23,
   "id": "fd661128-28c1-4917-92f2-85ddad7cf64a",
   "metadata": {
    "tags": []
   },
   "outputs": [],
   "source": [
    "# Intersect with WES dataset to generate phenotype file \n",
    "# Get WES \n",
    "# Merge with WES data to leave only participants with WES data available\n",
    "# Get WES\n",
    "path_to_family_file = f'/mnt/project/Bulk/Exome sequences_Previous exome releases/Population level exome OQFE variants, PLINK format - interim 200k release/ukb23155_cY_b0_v1.fam'\n",
    "plink_fam_df = pd.read_csv(path_to_family_file, delimiter='\\s', dtype='object',                           \n",
    "                           names = ['FID','IID','Father ID','Mother ID', 'sex', 'Pheno'], engine='python')\n",
    "# Intersect the phenotype file and the 200K WES .fam file\n",
    "# to generate phenotype DataFrame for the 200K participants\n",
    "# filtering out only those that have whole exome available \n",
    "diabetes_wes_200k_df = df_phenotype.join(plink_fam_df.set_index('IID'), on='IID', rsuffix='_fam', how='inner')\n",
    "# Drop unuseful columns from .fam file\n",
    "diabetes_wes_200k_df.drop(\n",
    "    columns=['FID_fam','Father ID','Mother ID','sex_fam', 'Pheno'], axis=1, inplace=True, errors='ignore'\n",
    ")"
   ]
  },
  {
   "cell_type": "code",
   "execution_count": 33,
   "id": "b84f4cb6-b765-4b89-ab04-3ecba4f3a1bc",
   "metadata": {
    "tags": []
   },
   "outputs": [],
   "source": [
    "# Write phenotype files to a TSV file\n",
    "diabetes_wes_200k_df.to_csv('diabetes_wes_200k.phe', sep='\\t', na_rep='NA', index=False, quoting=3)\n",
    "df_phenotype.to_csv('diabetes_wes.phe', sep='\\t', na_rep='NA', index=False, quoting=3)"
   ]
  },
  {
   "cell_type": "code",
   "execution_count": 40,
   "id": "23a81f9f-abbe-4973-a793-310dc667b5ff",
   "metadata": {
    "tags": []
   },
   "outputs": [
    {
     "name": "stdout",
     "output_type": "stream",
     "text": [
      "file-GvqfXjjJp2pYPXYb7vBPxKx3\n",
      "file-GvqfXk0Jp2px8F90gKygf3Fz\n"
     ]
    }
   ],
   "source": [
    "%%bash -s \"$output_dir\"\n",
    "# Upload the geno-pheno intersect phenotype file back to the RAP project\n",
    "dx upload diabetes_wes_200k.phe -p --path $1 --brief\n",
    "dx upload diabetes_wes.phe -p --path $1 --brief"
   ]
  }
 ],
 "metadata": {
  "kernelspec": {
   "display_name": "Python 3 (ipykernel)",
   "language": "python",
   "name": "python3"
  },
  "language_info": {
   "codemirror_mode": {
    "name": "ipython",
    "version": 3
   },
   "file_extension": ".py",
   "mimetype": "text/x-python",
   "name": "python",
   "nbconvert_exporter": "python",
   "pygments_lexer": "ipython3",
   "version": "3.9.16"
  }
 },
 "nbformat": 4,
 "nbformat_minor": 5
}
